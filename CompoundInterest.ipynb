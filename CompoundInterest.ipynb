{
 "cells": [
  {
   "cell_type": "markdown",
   "metadata": {},
   "source": [
    "Import necessary python packages for a Sanic application, to be deployed on Vercel"
   ]
  },
  {
   "cell_type": "code",
   "execution_count": null,
   "metadata": {},
   "outputs": [],
   "source": [
    "from sanic import Sanic\n",
    "from sanic.response import json"
   ]
  },
  {
   "cell_type": "markdown",
   "metadata": {},
   "source": [
    "Create a Sanic app with the name `__name__`, this will give the app the same name as the file. \n",
    "If the intended use is to place this file in the `/api`directory as `index.py` replacement then \n",
    "using the `__name__` will cause an error for your deployment. Either the file is named index and \n",
    "the app name is in the Sanic app initiation or the app name is the filename, excluding index.py.\n",
    "Else Vercel will not deploy the Sanic app  "
   ]
  },
  {
   "cell_type": "code",
   "execution_count": null,
   "metadata": {},
   "outputs": [],
   "source": [
    "app = Sanic(__name__)"
   ]
  },
  {
   "cell_type": "code",
   "execution_count": null,
   "metadata": {},
   "outputs": [],
   "source": [
    "# Create a Sanic application that calculates the compound interest for these values:\n",
    "# Initial deposit: XXXX.XX € (e.g. 1000.00)\n",
    "# Compound inteterest rate: XXXX.XX % (e.g. 5.00) / year\n",
    "# How often interest compounds: daily, every other day, every third day, weekly, bi-weekly, quarter-weekly, monthly, quarterly, yearly\n",
    "# How many years: XXXX.XX (e.g. 5.00)\n",
    "# Additional contributions per month: XXXX.XX € (e.g. 100.00)\n",
    "# The values are received as a JSON object in the request body and the calculation result is returned, parsed as a JSON response."
   ]
  }
 ],
 "metadata": {
  "language_info": {
   "name": "python"
  },
  "orig_nbformat": 4
 },
 "nbformat": 4,
 "nbformat_minor": 2
}
