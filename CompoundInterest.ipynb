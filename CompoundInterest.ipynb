{
 "cells": [
  {
   "cell_type": "markdown",
   "metadata": {},
   "source": [
    "Import necessary python packages for a Sanic application, to be deployed on Vercel"
   ]
  },
  {
   "cell_type": "code",
   "execution_count": null,
   "metadata": {},
   "outputs": [],
   "source": [
    "from sanic import Sanic\n",
    "from sanic.response import json"
   ]
  },
  {
   "cell_type": "code",
   "execution_count": null,
   "metadata": {},
   "outputs": [],
   "source": [
    "app = Sanic(__name__)"
   ]
  },
  {
   "cell_type": "code",
   "execution_count": null,
   "metadata": {},
   "outputs": [],
   "source": [
    "# Sanic application route that calculates: \n",
    "#   Compound interest for a given principal using a specified compound rate and number of years with monthly contributions.\n",
    "#   Compound interest is calculated using the formula: \n",
    "#       Total = Comopound interest for principal + Future value of a series.\n",
    "#       Compound interest for principal = P(1+r/n)^(nt)\n",
    "#       Future value of a series = PMT * {[(1 + r/n)(nt) - 1] / (r/n)} * (1+r/n)^nt * (1+r/n)\n",
    "#       Total = [ P(1+r/n)^(nt) ] + [ PMT * (((1 + r/n)^(nt) - 1) / (r/n)) * (1+r/n)]\n",
    "#   where \n",
    "#       Total = the future value of the investment/loan, including interest\n",
    "#       P = the principal investment amount(the initial deposit or loan amount)\n",
    "#       Pmt = the monthly payment\n",
    "#       r = the annual interest rate(decimal)\n",
    "#       n = the number of times that interest is compounded per year, or variable t. \n",
    "#           (365 = daily, 96 = 4× month or weekly, 48 = 3× month, 24 = 2× month, 12 = monthly, 4 = quarterly, etc.)\n",
    "#       t = the time(in years representing how many months, years, etc) the money is invested or borrowed for\n",
    "#\n",
    "# The values are received through sanic app.route /calculate endpoint as JSON key values \n",
    "# and the result is returned in the same manner as a JSON object when the calculation is complete."
   ]
  },
  {
   "cell_type": "code",
   "execution_count": null,
   "metadata": {},
   "outputs": [],
   "source": [
    "@app.post('/calculate')\n",
    "async def calculate(request):\n",
    "  data = request.json\n",
    "  P = data['P']\n",
    "  Pmt = data['PMT']\n",
    "  r = data['r']\n",
    "  n = data['n']\n",
    "  t = data['t']\n",
    "  Total = (P(1+r/n) ^ (n*t)) + (Pmt * (((1 + r/n) ^ (n*t) - 1) / (r/n)) * (1+r/n))\n",
    "  diff = Total - P\n",
    "  pMonth = diff / n\n",
    "  response = json({\n",
    "    'Total': Total,\n",
    "    'Contributions p/Month': pMonth,\n",
    "    'Difference': diff\n",
    "    })\n",
    "  return response"
   ]
  },
  {
   "cell_type": "code",
   "execution_count": null,
   "metadata": {},
   "outputs": [],
   "source": [
    "if __name__ == '__main__':\n",
    "    app.run(host='0.0.0.0', port=8000)"
   ]
  }
 ],
 "metadata": {
  "language_info": {
   "name": "python"
  },
  "orig_nbformat": 4
 },
 "nbformat": 4,
 "nbformat_minor": 2
}
