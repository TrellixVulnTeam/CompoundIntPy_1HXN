{
 "cells": [
  {
   "cell_type": "markdown",
   "metadata": {},
   "source": [
    "Import necessary modules for everything to work"
   ]
  },
  {
   "cell_type": "code",
   "execution_count": 1,
   "metadata": {},
   "outputs": [],
   "source": [
    "from sanic import Sanic\n",
    "from sanic.response import json"
   ]
  },
  {
   "cell_type": "markdown",
   "metadata": {},
   "source": [
    "Declare a Sanic app name"
   ]
  },
  {
   "cell_type": "code",
   "execution_count": 2,
   "metadata": {},
   "outputs": [],
   "source": [
    "app = Sanic(__name__)"
   ]
  },
  {
   "cell_type": "markdown",
   "metadata": {},
   "source": [
    "Sanic application route that calculates:\n",
    "\n",
    "```python\n",
    "Compound interest for a given principal using a specified compound rate and number of years with monthly contributions.\n",
    "Compound interest is calculated using the formula: \n",
    "\n",
    "Total = [ Compound interest for principal ] + [ Future value of a series ]\n",
    "\n",
    "Compound interest for principal = P(1+r/n)^(nt)\n",
    "Future value of a series = PMT * {[(1 + r/n)(nt) - 1] / (r/n)} * (1+r/n)^nt * (1+r/n)\n",
    "\n",
    "Total = [ P(1+r/n)^(nt) ] + [ PMT * (((1 + r/n)^(nt) - 1) / (r/n)) * (1+r/n)]\n",
    "\n",
    "    where \n",
    "      total = the future value of the investment/loan, including interest\n",
    "      P = the principal investment amount(the initial deposit or loan amount)\n",
    "      Pmt = the monthly payment\n",
    "      r = the annual interest rate(decimal)\n",
    "      n = the number of times that interest is compounded per year, or variable t. \n",
    "          (365 = daily, 96 = 4× month or weekly, 48 = 3× month, 24 = 2× month, 12 = monthly, 4 = quarterly, etc.)\n",
    "      t = the time(in years representing how many months, years, etc) the money is invested or borrowed for.\n",
    "```\n",
    "\n",
    "The values are received through sanic app.route /calculate endpoint as JSON key values and the result is returned in the same manner as a JSON object when the calculation is complete."
   ]
  },
  {
   "cell_type": "code",
   "execution_count": 3,
   "metadata": {},
   "outputs": [],
   "source": [
    "@app.post('/contribution')\n",
    "async def contribution_handler(request):\n",
    "    data = request.json\n",
    "    P = data['P']\n",
    "    Pmt = data['PMT']\n",
    "    r = data['r']\n",
    "    n = data['n']\n",
    "    t = data['t']\n",
    "    return json.dumps({'Total': (P(1+r/n) ^ (n*t)) + (Pmt * (((1 + r/n) ^ (n*t) - 1) / (r/n)) * (1+r/n))})"
   ]
  },
  {
   "cell_type": "markdown",
   "metadata": {},
   "source": [
    "Initiate the Sanic application "
   ]
  },
  {
   "cell_type": "code",
   "execution_count": 4,
   "metadata": {},
   "outputs": [
    {
     "name": "stdout",
     "output_type": "stream",
     "text": [
      "[2021-11-29 23:55:40 +0100] [14795] [INFO] Goin' Fast @ http://127.0.0.1:3000\n"
     ]
    },
    {
     "name": "stderr",
     "output_type": "stream",
     "text": [
      "[2021-11-29 23:55:40 +0100] [14795] [ERROR] Experienced exception while trying to serve\n",
      "Traceback (most recent call last):\n",
      "  File \"/home/zendai/Nextcloud/Code/Python/CompoundIntPy/env/lib/python3.7/site-packages/sanic/app.py\", line 1051, in run\n",
      "    serve_single(server_settings)\n",
      "  File \"/home/zendai/Nextcloud/Code/Python/CompoundIntPy/env/lib/python3.7/site-packages/sanic/server/runners.py\", line 199, in serve_single\n",
      "    serve(**server_settings)\n",
      "  File \"/home/zendai/Nextcloud/Code/Python/CompoundIntPy/env/lib/python3.7/site-packages/sanic/server/runners.py\", line 125, in serve\n",
      "    loop.run_until_complete(app._startup())\n",
      "  File \"uvloop/loop.pyx\", line 1495, in uvloop.loop.Loop.run_until_complete\n",
      "  File \"uvloop/loop.pyx\", line 1488, in uvloop.loop.Loop.run_until_complete\n",
      "  File \"uvloop/loop.pyx\", line 1377, in uvloop.loop.Loop.run_forever\n",
      "  File \"uvloop/loop.pyx\", line 515, in uvloop.loop.Loop._run\n",
      "RuntimeError: Cannot run the event loop while another loop is running\n"
     ]
    },
    {
     "ename": "RuntimeError",
     "evalue": "Cannot run the event loop while another loop is running",
     "output_type": "error",
     "traceback": [
      "\u001b[0;31m---------------------------------------------------------------------------\u001b[0m",
      "\u001b[0;31mRuntimeError\u001b[0m                              Traceback (most recent call last)",
      "\u001b[0;32m/tmp/ipykernel_14795/3557415280.py\u001b[0m in \u001b[0;36m<module>\u001b[0;34m\u001b[0m\n\u001b[0;32m----> 1\u001b[0;31m \u001b[0mapp\u001b[0m\u001b[0;34m.\u001b[0m\u001b[0mrun\u001b[0m\u001b[0;34m(\u001b[0m\u001b[0mhost\u001b[0m\u001b[0;34m=\u001b[0m\u001b[0;34m'127.0.0.1'\u001b[0m\u001b[0;34m,\u001b[0m \u001b[0mport\u001b[0m\u001b[0;34m=\u001b[0m\u001b[0;36m3000\u001b[0m\u001b[0;34m)\u001b[0m\u001b[0;34m\u001b[0m\u001b[0;34m\u001b[0m\u001b[0m\n\u001b[0m",
      "\u001b[0;32m~/Nextcloud/Code/Python/CompoundIntPy/env/lib/python3.7/site-packages/sanic/app.py\u001b[0m in \u001b[0;36mrun\u001b[0;34m(self, host, port, debug, auto_reload, ssl, sock, workers, protocol, backlog, register_sys_signals, access_log, unix, loop, reload_dir)\u001b[0m\n\u001b[1;32m   1049\u001b[0m                 \u001b[0mworkers\u001b[0m \u001b[0;34m=\u001b[0m \u001b[0;36m1\u001b[0m\u001b[0;34m\u001b[0m\u001b[0;34m\u001b[0m\u001b[0m\n\u001b[1;32m   1050\u001b[0m             \u001b[0;32mif\u001b[0m \u001b[0mworkers\u001b[0m \u001b[0;34m==\u001b[0m \u001b[0;36m1\u001b[0m\u001b[0;34m:\u001b[0m\u001b[0;34m\u001b[0m\u001b[0;34m\u001b[0m\u001b[0m\n\u001b[0;32m-> 1051\u001b[0;31m                 \u001b[0mserve_single\u001b[0m\u001b[0;34m(\u001b[0m\u001b[0mserver_settings\u001b[0m\u001b[0;34m)\u001b[0m\u001b[0;34m\u001b[0m\u001b[0;34m\u001b[0m\u001b[0m\n\u001b[0m\u001b[1;32m   1052\u001b[0m             \u001b[0;32melse\u001b[0m\u001b[0;34m:\u001b[0m\u001b[0;34m\u001b[0m\u001b[0;34m\u001b[0m\u001b[0m\n\u001b[1;32m   1053\u001b[0m                 \u001b[0mserve_multiple\u001b[0m\u001b[0;34m(\u001b[0m\u001b[0mserver_settings\u001b[0m\u001b[0;34m,\u001b[0m \u001b[0mworkers\u001b[0m\u001b[0;34m)\u001b[0m\u001b[0;34m\u001b[0m\u001b[0;34m\u001b[0m\u001b[0m\n",
      "\u001b[0;32m~/Nextcloud/Code/Python/CompoundIntPy/env/lib/python3.7/site-packages/sanic/server/runners.py\u001b[0m in \u001b[0;36mserve_single\u001b[0;34m(server_settings)\u001b[0m\n\u001b[1;32m    197\u001b[0m \u001b[0;34m\u001b[0m\u001b[0m\n\u001b[1;32m    198\u001b[0m     \u001b[0mtrigger_events\u001b[0m\u001b[0;34m(\u001b[0m\u001b[0mmain_start\u001b[0m\u001b[0;34m,\u001b[0m \u001b[0mserver_settings\u001b[0m\u001b[0;34m[\u001b[0m\u001b[0;34m\"loop\"\u001b[0m\u001b[0;34m]\u001b[0m\u001b[0;34m)\u001b[0m\u001b[0;34m\u001b[0m\u001b[0;34m\u001b[0m\u001b[0m\n\u001b[0;32m--> 199\u001b[0;31m     \u001b[0mserve\u001b[0m\u001b[0;34m(\u001b[0m\u001b[0;34m**\u001b[0m\u001b[0mserver_settings\u001b[0m\u001b[0;34m)\u001b[0m\u001b[0;34m\u001b[0m\u001b[0;34m\u001b[0m\u001b[0m\n\u001b[0m\u001b[1;32m    200\u001b[0m     \u001b[0mtrigger_events\u001b[0m\u001b[0;34m(\u001b[0m\u001b[0mmain_stop\u001b[0m\u001b[0;34m,\u001b[0m \u001b[0mserver_settings\u001b[0m\u001b[0;34m[\u001b[0m\u001b[0;34m\"loop\"\u001b[0m\u001b[0;34m]\u001b[0m\u001b[0;34m)\u001b[0m\u001b[0;34m\u001b[0m\u001b[0;34m\u001b[0m\u001b[0m\n\u001b[1;32m    201\u001b[0m \u001b[0;34m\u001b[0m\u001b[0m\n",
      "\u001b[0;32m~/Nextcloud/Code/Python/CompoundIntPy/env/lib/python3.7/site-packages/sanic/server/runners.py\u001b[0m in \u001b[0;36mserve\u001b[0;34m(host, port, app, ssl, sock, unix, reuse_port, loop, protocol, backlog, register_sys_signals, run_multiple, run_async, connections, signal, state, asyncio_server_kwargs)\u001b[0m\n\u001b[1;32m    123\u001b[0m         )\n\u001b[1;32m    124\u001b[0m \u001b[0;34m\u001b[0m\u001b[0m\n\u001b[0;32m--> 125\u001b[0;31m     \u001b[0mloop\u001b[0m\u001b[0;34m.\u001b[0m\u001b[0mrun_until_complete\u001b[0m\u001b[0;34m(\u001b[0m\u001b[0mapp\u001b[0m\u001b[0;34m.\u001b[0m\u001b[0m_startup\u001b[0m\u001b[0;34m(\u001b[0m\u001b[0;34m)\u001b[0m\u001b[0;34m)\u001b[0m\u001b[0;34m\u001b[0m\u001b[0;34m\u001b[0m\u001b[0m\n\u001b[0m\u001b[1;32m    126\u001b[0m     \u001b[0mloop\u001b[0m\u001b[0;34m.\u001b[0m\u001b[0mrun_until_complete\u001b[0m\u001b[0;34m(\u001b[0m\u001b[0mapp\u001b[0m\u001b[0;34m.\u001b[0m\u001b[0m_server_event\u001b[0m\u001b[0;34m(\u001b[0m\u001b[0;34m\"init\"\u001b[0m\u001b[0;34m,\u001b[0m \u001b[0;34m\"before\"\u001b[0m\u001b[0;34m)\u001b[0m\u001b[0;34m)\u001b[0m\u001b[0;34m\u001b[0m\u001b[0;34m\u001b[0m\u001b[0m\n\u001b[1;32m    127\u001b[0m \u001b[0;34m\u001b[0m\u001b[0m\n",
      "\u001b[0;32m~/Nextcloud/Code/Python/CompoundIntPy/env/lib/python3.7/site-packages/uvloop/loop.pyx\u001b[0m in \u001b[0;36muvloop.loop.Loop.run_until_complete\u001b[0;34m()\u001b[0m\n",
      "\u001b[0;32m~/Nextcloud/Code/Python/CompoundIntPy/env/lib/python3.7/site-packages/uvloop/loop.pyx\u001b[0m in \u001b[0;36muvloop.loop.Loop.run_until_complete\u001b[0;34m()\u001b[0m\n",
      "\u001b[0;32m~/Nextcloud/Code/Python/CompoundIntPy/env/lib/python3.7/site-packages/uvloop/loop.pyx\u001b[0m in \u001b[0;36muvloop.loop.Loop.run_forever\u001b[0;34m()\u001b[0m\n",
      "\u001b[0;32m~/Nextcloud/Code/Python/CompoundIntPy/env/lib/python3.7/site-packages/uvloop/loop.pyx\u001b[0m in \u001b[0;36muvloop.loop.Loop._run\u001b[0;34m()\u001b[0m\n",
      "\u001b[0;31mRuntimeError\u001b[0m: Cannot run the event loop while another loop is running"
     ]
    }
   ],
   "source": [
    "app.run(host='127.0.0.1', port=3000)"
   ]
  }
 ],
 "metadata": {
  "kernelspec": {
   "display_name": "Python 3 (ipykernel)",
   "language": "python",
   "name": "python3"
  },
  "language_info": {
   "codemirror_mode": {
    "name": "ipython",
    "version": 3
   },
   "file_extension": ".py",
   "mimetype": "text/x-python",
   "name": "python",
   "nbconvert_exporter": "python",
   "pygments_lexer": "ipython3",
   "version": "3.7.3"
  },
  "orig_nbformat": 4
 },
 "nbformat": 4,
 "nbformat_minor": 2
}
